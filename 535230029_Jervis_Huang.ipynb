{
  "nbformat": 4,
  "nbformat_minor": 0,
  "metadata": {
    "colab": {
      "provenance": []
    },
    "kernelspec": {
      "name": "python3",
      "display_name": "Python 3"
    },
    "language_info": {
      "name": "python"
    }
  },
  "cells": [
    {
      "cell_type": "code",
      "execution_count": 23,
      "metadata": {
        "id": "GqfW0H9cZoAt"
      },
      "outputs": [],
      "source": [
        "#nomor 1"
      ]
    },
    {
      "cell_type": "code",
      "source": [
        "import numpy as np\n",
        "def fx(x):\n",
        "  e=2.71828\n",
        "  fxResult=1/2*(pow(e,(np.sqrt((1/3*x)))))-1\n",
        "  return fxResult"
      ],
      "metadata": {
        "id": "7YAqnalXiDnR"
      },
      "execution_count": null,
      "outputs": []
    },
    {
      "cell_type": "code",
      "source": [
        "def fxrRoot(xu,xi):\n",
        "  fxRootResult=xu-((fx(xu)*(xi-xu))/(fx(xi)-fx(xu)))\n",
        "  return fxRootResult"
      ],
      "metadata": {
        "id": "VM3JI_U0dJXF"
      },
      "execution_count": 24,
      "outputs": []
    },
    {
      "cell_type": "code",
      "source": [
        "import numpy as np\n",
        "import matplotlib.pyplot as pl\n",
        "def graphs():\n",
        "  xi=1\n",
        "  xu=50\n",
        "  ea=100\n",
        "  es=0.05\n",
        "  iter=0\n",
        "  yaxisError=[]\n",
        "  xaxisError=[]\n",
        "  yaxisRoot=[]\n",
        "  xaxisRoot=[]\n",
        "\n",
        "  while (ea>es):\n",
        "    iter+=1\n",
        "    if(iter>1):\n",
        "      oldXr=xr\n",
        "    fxi=fx(xi)\n",
        "    fxu=fx(xu)\n",
        "    xr=fxrRoot(xu,xi)\n",
        "    fxr=fx(xr)\n",
        "    condition=fxi*fxr\n",
        "    print(\"iterasi ke %d\"%(iter))\n",
        "    print(\"fxi: %.5f\"%(fxi))\n",
        "    print(\"fxu: %.5f\"%(fxu))\n",
        "    print(\"xr: %.5f\"%(xr))\n",
        "    print(\"fxr: %.5f\"%(fxr))\n",
        "    if (condition>0):\n",
        "      xi=xr\n",
        "      print (\"condition>0\")\n",
        "    else:\n",
        "      xu=xr\n",
        "      print (\"condition<0\")\n",
        "    if(iter>1):\n",
        "      ea=(abs(xr-oldXr)/xr)*100\n",
        "      print(\"ea: %.5f\"%(ea))\n",
        "      yaxisError.append(ea)\n",
        "      xaxisError.append(iter)\n",
        "    yaxisRoot.append(xr)\n",
        "    xaxisRoot.append(iter)\n",
        "    print(\"\\n\")\n",
        "\n",
        "  pl.subplot(2,1,1)\n",
        "  pl.plot(xaxisRoot,yaxisRoot,'o')\n",
        "  pl.title(\"akar persamaan dg regulafalsi\")\n",
        "  pl.ylabel(\"hasil regulafalsi\")\n",
        "\n",
        "\n",
        "  pl.subplot(2,1,2)\n",
        "  pl.plot(xaxisError,yaxisError,'s')\n",
        "  pl.ylabel(\"error\")\n",
        "  pl.xlabel(\"iterasi\")\n",
        "\n",
        "\n",
        "\n",
        "  pl.show()"
      ],
      "metadata": {
        "id": "6ywN0dN-Z14q"
      },
      "execution_count": 49,
      "outputs": []
    },
    {
      "cell_type": "code",
      "source": [
        "graphs()"
      ],
      "metadata": {
        "colab": {
          "base_uri": "https://localhost:8080/",
          "height": 1000
        },
        "id": "4VZsHBSWgjbL",
        "outputId": "dde728f8-5d18-4e32-caaf-2b73ce871be1"
      },
      "execution_count": 50,
      "outputs": [
        {
          "output_type": "stream",
          "name": "stdout",
          "text": [
            "iterasi ke 1\n",
            "fxi: -0.10934\n",
            "fxu: 28.64617\n",
            "xr: 1.18632\n",
            "fxr: -0.06228\n",
            "condition>0\n",
            "\n",
            "\n",
            "iterasi ke 2\n",
            "fxi: -0.06228\n",
            "fxu: 28.64617\n",
            "xr: 1.29222\n",
            "fxr: -0.03617\n",
            "condition>0\n",
            "ea: 8.19515\n",
            "\n",
            "\n",
            "iterasi ke 3\n",
            "fxi: -0.03617\n",
            "fxu: 28.64617\n",
            "xr: 1.35364\n",
            "fxr: -0.02119\n",
            "condition>0\n",
            "ea: 4.53740\n",
            "\n",
            "\n",
            "iterasi ke 4\n",
            "fxi: -0.02119\n",
            "fxu: 28.64617\n",
            "xr: 1.38961\n",
            "fxr: -0.01248\n",
            "condition>0\n",
            "ea: 2.58816\n",
            "\n",
            "\n",
            "iterasi ke 5\n",
            "fxi: -0.01248\n",
            "fxu: 28.64617\n",
            "xr: 1.41078\n",
            "fxr: -0.00737\n",
            "condition>0\n",
            "ea: 1.50031\n",
            "\n",
            "\n",
            "iterasi ke 6\n",
            "fxi: -0.00737\n",
            "fxu: 28.64617\n",
            "xr: 1.42327\n",
            "fxr: -0.00435\n",
            "condition>0\n",
            "ea: 0.87765\n",
            "\n",
            "\n",
            "iterasi ke 7\n",
            "fxi: -0.00435\n",
            "fxu: 28.64617\n",
            "xr: 1.43065\n",
            "fxr: -0.00258\n",
            "condition>0\n",
            "ea: 0.51609\n",
            "\n",
            "\n",
            "iterasi ke 8\n",
            "fxi: -0.00258\n",
            "fxu: 28.64617\n",
            "xr: 1.43502\n",
            "fxr: -0.00153\n",
            "condition>0\n",
            "ea: 0.30441\n",
            "\n",
            "\n",
            "iterasi ke 9\n",
            "fxi: -0.00153\n",
            "fxu: 28.64617\n",
            "xr: 1.43761\n",
            "fxr: -0.00090\n",
            "condition>0\n",
            "ea: 0.17987\n",
            "\n",
            "\n",
            "iterasi ke 10\n",
            "fxi: -0.00090\n",
            "fxu: 28.64617\n",
            "xr: 1.43914\n",
            "fxr: -0.00053\n",
            "condition>0\n",
            "ea: 0.10640\n",
            "\n",
            "\n",
            "iterasi ke 11\n",
            "fxi: -0.00053\n",
            "fxu: 28.64617\n",
            "xr: 1.44004\n",
            "fxr: -0.00032\n",
            "condition>0\n",
            "ea: 0.06297\n",
            "\n",
            "\n",
            "iterasi ke 12\n",
            "fxi: -0.00032\n",
            "fxu: 28.64617\n",
            "xr: 1.44058\n",
            "fxr: -0.00019\n",
            "condition>0\n",
            "ea: 0.03729\n",
            "\n",
            "\n"
          ]
        },
        {
          "output_type": "display_data",
          "data": {
            "text/plain": [
              "<Figure size 640x480 with 2 Axes>"
            ],
            "image/png": "[encoded data removed]"
          },
          "metadata": {}
        }
      ]
    },
    {
      "cell_type": "code",
      "source": [
        "#nomor 2"
      ],
      "metadata": {
        "id": "qmYaJMRKiIZ0"
      },
      "execution_count": null,
      "outputs": []
    },
    {
      "cell_type": "code",
      "source": [
        "import numpy as np\n",
        "\n",
        "def lagrange(dataArray, n):\n",
        "    endLoop=True\n",
        "    inc0=0\n",
        "    loopnumber=0\n",
        "    while endLoop:\n",
        "      if (dataArray[inc0][0]>n):\n",
        "        return(((n-dataArray[inc0][0])/dataArray[inc0][0])*dataArray[inc0][1])\n",
        "      if dataArray[inc0][0]<=n<=dataArray[inc0+1][0]:\n",
        "          endLoop=False\n",
        "      else:\n",
        "          inc0+=1\n",
        "    x0=dataArray[inc0][0]\n",
        "    x1=dataArray[inc0+1][0]\n",
        "    fx0=dataArray[inc0][1]\n",
        "    fx1=dataArray[inc0+1][1]\n",
        "\n",
        "    l0=(n-x1)/(x0-x1)\n",
        "    l1=(n-x0)/(x1-x0)\n",
        "\n",
        "    fx=(l0 * fx0)+(l1 * fx1)\n",
        "    return fx"
      ],
      "metadata": {
        "id": "MjCOS66amSUl"
      },
      "execution_count": 117,
      "outputs": []
    },
    {
      "cell_type": "code",
      "source": [
        "import numpy as np\n",
        "\n",
        "def lagrange0(dataArray, n):\n",
        "    endLoop=True\n",
        "    inc0=0\n",
        "\n",
        "    x0=dataArray[n-1][0]\n",
        "    x1=dataArray[n+1][0]\n",
        "    x=dataArray[n][0]\n",
        "    fx0=dataArray[n-1][1]\n",
        "    fx1=dataArray[n+1][1]\n",
        "\n",
        "    l0=(x-x1)/(x0-x1)\n",
        "    l1=(x-x0)/(x1-x0)\n",
        "\n",
        "    fx=(l0 * fx0)+(l1 * fx1)\n",
        "    return fx"
      ],
      "metadata": {
        "id": "CPOPTa70zbcb"
      },
      "execution_count": 120,
      "outputs": []
    },
    {
      "cell_type": "code",
      "source": [
        "xUnsorted=np.array([[2.26917,9.11945],[16.31666,4.40078],[10.94926,-0.90850],[97.56369,5.52475],[86.94159,5.08178],\n",
        "                       [30.02950,4.95160],[98.82114,3.67603],[79.62789,6.62335],[28.61229,7.68267],[81.40115,8.00429],\n",
        "                       [74.85389,4.83694],[40.55315,5.78398]])\n",
        "\n",
        "x = xUnsorted[xUnsorted[:,0].argsort()]\n",
        "\n",
        "\n",
        "p1=(lagrange(x,17.51321))\n",
        "p2=(lagrange(x,2.52911))\n",
        "p3=(lagrange(x,13.55812))\n",
        "p4=(lagrange(x,40.52013))\n",
        "p5=(lagrange(x,75.23149))\n",
        "\n",
        "print(\"titik adalah 17.51321 adalah:%.5f\"%(p1))\n",
        "print(\"titik adalah 2.52911 adalah:%.5f\"%(p2))\n",
        "print(\"titik adalah 13.55812 adalah:%.5f\"%(p3))\n",
        "print(\"titik adalah 40.52013 adalah:%.5f\"%(p4))\n",
        "print(\"titik adalah 75.23149 adalah:%.5f\"%(p5))\n",
        "\n",
        "t2=(lagrange(x,2))\n",
        "t3=(lagrange(x,3))\n",
        "t4=(lagrange(x,4))\n",
        "t5=(lagrange(x,5))\n",
        "\n",
        "print(\"interpolasi orde ke 2 adalah %.5f\"%(t2))\n",
        "print(\"interpolasi orde ke 3 adalah %.5f\"%(t3))\n",
        "print(\"interpolasi orde ke 4 adalah %.5f\"%(t4))\n",
        "print(\"interpolasi orde ke 5 adalah %.5f\"%(t5))"
      ],
      "metadata": {
        "colab": {
          "base_uri": "https://localhost:8080/"
        },
        "id": "-noaNod8ye9B",
        "outputId": "331d87cc-de66-4200-f848-ea1fabba6643"
      },
      "execution_count": 121,
      "outputs": [
        {
          "output_type": "stream",
          "name": "stdout",
          "text": [
            "titik adalah 17.51321 adalah:4.72016\n",
            "titik adalah 2.52911 adalah:8.81915\n",
            "titik adalah 13.55812 adalah:1.67211\n",
            "titik adalah 40.52013 adalah:5.78137\n",
            "titik adalah 75.23149 adalah:4.97824\n",
            "interpolasi orde ke 2 adalah -1.08175\n",
            "interpolasi orde ke 3 adalah 8.27514\n",
            "interpolasi orde ke 4 adalah 7.11985\n",
            "interpolasi orde ke 5 adalah 5.96457\n"
          ]
        }
      ]
    }
  ]
}